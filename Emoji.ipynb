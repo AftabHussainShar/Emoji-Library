{
  "nbformat": 4,
  "nbformat_minor": 0,
  "metadata": {
    "colab": {
      "provenance": []
    },
    "kernelspec": {
      "name": "python3",
      "display_name": "Python 3"
    },
    "language_info": {
      "name": "python"
    }
  },
  "cells": [
    {
      "cell_type": "code",
      "source": [
        "pip install emoji"
      ],
      "metadata": {
        "colab": {
          "base_uri": "https://localhost:8080/"
        },
        "id": "w8Ut3iSq_Sst",
        "outputId": "8ef7ada8-1395-4970-b6ce-651fa0e61687"
      },
      "execution_count": 41,
      "outputs": [
        {
          "output_type": "stream",
          "name": "stdout",
          "text": [
            "Requirement already satisfied: emoji in /usr/local/lib/python3.10/dist-packages (2.9.0)\n"
          ]
        }
      ]
    },
    {
      "cell_type": "code",
      "execution_count": 42,
      "metadata": {
        "colab": {
          "base_uri": "https://localhost:8080/"
        },
        "id": "wRbfcW7f_DyC",
        "outputId": "3c58c12d-926f-439c-cf25-f63172e8057c"
      },
      "outputs": [
        {
          "output_type": "stream",
          "name": "stdout",
          "text": [
            "👍\n"
          ]
        }
      ],
      "source": [
        "from emoji import emojize\n",
        "print(emojize(\":thumbs_up:\"))"
      ]
    },
    {
      "cell_type": "code",
      "source": [
        "import emoji\n",
        "print(emoji.emojize('Python is :thumbs_up:'))\n",
        "print(emoji.emojize('Python is :thumbsup:', language='alias'))\n",
        "print(emoji.demojize('Python is 👍'))\n",
        "print(emoji.emojize(\"Python is fun :red_heart:\"))\n",
        "print(emoji.emojize(\"Python is fun :red_heart:\", variant=\"emoji_type\"))\n",
        "print(emoji.is_emoji(\"👍\"))"
      ],
      "metadata": {
        "colab": {
          "base_uri": "https://localhost:8080/"
        },
        "id": "-fJFMKDy_aOZ",
        "outputId": "1ab4a471-364e-4e57-c4b7-264c3a150cc3"
      },
      "execution_count": 43,
      "outputs": [
        {
          "output_type": "stream",
          "name": "stdout",
          "text": [
            "Python is 👍\n",
            "Python is 👍\n",
            "Python is :thumbs_up:\n",
            "Python is fun ❤️\n",
            "Python is fun ❤️\n",
            "True\n"
          ]
        }
      ]
    },
    {
      "cell_type": "code",
      "source": [
        "# Basic emojis\n",
        "smile_emoji = emoji.emojize(\":smile:\")\n",
        "heart_emoji = emoji.emojize(\":red_heart:\")\n",
        "thumbs_up_emoji = emoji.emojize(\":thumbs_up:\")\n",
        "thumbs_down_emoji = emoji.emojize(\":thumbs_down:\")\n",
        "clap_emoji = emoji.emojize(\":clap:\")\n",
        "sparkles_emoji = emoji.emojize(\":sparkles:\")"
      ],
      "metadata": {
        "id": "Lf2Ox-kMDz-Q"
      },
      "execution_count": 51,
      "outputs": []
    },
    {
      "cell_type": "code",
      "source": [
        "# Animal emojis\n",
        "cat_emoji = emoji.emojize(\":cat:\")\n",
        "dog_emoji = emoji.emojize(\":dog:\")\n",
        "penguin_emoji = emoji.emojize(\":penguin:\")\n",
        "koala_emoji = emoji.emojize(\":koala:\")\n"
      ],
      "metadata": {
        "id": "fzcNFvJAD4D3"
      },
      "execution_count": 52,
      "outputs": []
    },
    {
      "cell_type": "code",
      "source": [
        "# Food emojis\n",
        "pizza_emoji = emoji.emojize(\":pizza:\")\n",
        "hamburger_emoji = emoji.emojize(\":hamburger:\")\n",
        "ice_cream_emoji = emoji.emojize(\":ice_cream:\")"
      ],
      "metadata": {
        "id": "gK7uGjHSD51A"
      },
      "execution_count": 53,
      "outputs": []
    },
    {
      "cell_type": "code",
      "source": [
        "# Weather emojis\n",
        "sun_emoji = emoji.emojize(\":sun:\")\n",
        "cloud_emoji = emoji.emojize(\":cloud:\")\n",
        "umbrella_emoji = emoji.emojize(\":umbrella:\")\n",
        "snowflake_emoji = emoji.emojize(\":snowflake:\")"
      ],
      "metadata": {
        "id": "16ZItTAwD73y"
      },
      "execution_count": 54,
      "outputs": []
    },
    {
      "cell_type": "code",
      "source": [
        "# Miscellaneous emojis\n",
        "rocket_emoji = emoji.emojize(\":rocket:\")\n",
        "fire_emoji = emoji.emojize(\":fire:\")\n",
        "speech_bubble_emoji = emoji.emojize(\":speech_balloon:\")"
      ],
      "metadata": {
        "id": "CRXSFnmgD9n3"
      },
      "execution_count": 56,
      "outputs": []
    },
    {
      "cell_type": "code",
      "source": [
        "# Print the emojis\n",
        "print(smile_emoji, heart_emoji, thumbs_up_emoji, thumbs_down_emoji, clap_emoji, sparkles_emoji)\n",
        "print(cat_emoji, dog_emoji, penguin_emoji, koala_emoji)\n",
        "print(pizza_emoji, hamburger_emoji, ice_cream_emoji)\n",
        "print(sun_emoji, cloud_emoji, umbrella_emoji, snowflake_emoji)\n",
        "print(rocket_emoji, fire_emoji, speech_bubble_emoji )"
      ],
      "metadata": {
        "colab": {
          "base_uri": "https://localhost:8080/"
        },
        "id": "UvRnBZrzD_Qv",
        "outputId": "f6ce453f-3bee-4cbb-a033-93e24ed3cfda"
      },
      "execution_count": 59,
      "outputs": [
        {
          "output_type": "stream",
          "name": "stdout",
          "text": [
            ":smile: ❤️ 👍 👎 :clap: ✨\n",
            "🐈 🐕 🐧 🐨\n",
            "🍕 🍔 🍨\n",
            "☀️ ☁️ ☂️ ❄️\n",
            "🚀 🔥 💬\n"
          ]
        }
      ]
    },
    {
      "cell_type": "code",
      "source": [
        "# Still in pending\n",
        "import emoji\n",
        "\n",
        "# Define the name\n",
        "name = \"Aftab\"\n",
        "\n",
        "# Define emojis for each letter\n",
        "a_emoji = emoji.emojize(\":red_heart:\")\n",
        "f_emoji = emoji.emojize(\":red_heart:\")\n",
        "t_emoji = emoji.emojize(\":red_heart:\")\n",
        "b_emoji = emoji.emojize(\":red_heart:\")\n",
        "heart_emoji = emoji.emojize(\":red_heart:\")\n",
        "\n",
        "# Print the name with emojis and a heart\n",
        "print(f\"\"\"\n",
        " {a_emoji}   {f_emoji}{f_emoji}{f_emoji}{f_emoji}  {t_emoji}{t_emoji}{t_emoji}{t_emoji}  {a_emoji}{a_emoji}  {b_emoji}{b_emoji}{b_emoji}{b_emoji} {heart_emoji}\n",
        "{a_emoji} {a_emoji}  {f_emoji}       {t_emoji}   {a_emoji}  {a_emoji}  {b_emoji}   {b_emoji} {heart_emoji}\n",
        "{f_emoji}{f_emoji}{f_emoji}  {f_emoji}{f_emoji}{f_emoji}    {t_emoji}   {b_emoji}{b_emoji}{b_emoji}{b_emoji}  {b_emoji}{b_emoji}{b_emoji}{b_emoji} {heart_emoji}\n",
        "{a_emoji}   {a_emoji}  {f_emoji}      {t_emoji}   {a_emoji}  {a_emoji}  {b_emoji}   {b_emoji}\n",
        "{a_emoji}   {a_emoji}  {f_emoji}      {t_emoji}   {a_emoji}  {a_emoji}  {b_emoji}{b_emoji}{b_emoji}{b_emoji}\n",
        "\"\"\")\n"
      ],
      "metadata": {
        "colab": {
          "base_uri": "https://localhost:8080/"
        },
        "id": "SUV8VxB5BW1S",
        "outputId": "b394511b-ab32-42c0-8bff-373d738ed44b"
      },
      "execution_count": 50,
      "outputs": [
        {
          "output_type": "stream",
          "name": "stdout",
          "text": [
            "\n",
            " ❤️   ❤️❤️❤️❤️  ❤️❤️❤️❤️  ❤️❤️  ❤️❤️❤️❤️ ❤️\n",
            "❤️ ❤️  ❤️       ❤️   ❤️  ❤️  ❤️   ❤️ ❤️\n",
            "❤️❤️❤️  ❤️❤️❤️    ❤️   ❤️❤️❤️❤️  ❤️❤️❤️❤️ ❤️\n",
            "❤️   ❤️  ❤️      ❤️   ❤️  ❤️  ❤️   ❤️\n",
            "❤️   ❤️  ❤️      ❤️   ❤️  ❤️  ❤️❤️❤️❤️\n",
            "\n"
          ]
        }
      ]
    }
  ]
}